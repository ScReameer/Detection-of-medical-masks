{
 "cells": [
  {
   "cell_type": "markdown",
   "metadata": {},
   "source": [
    "# <center>Детектирование медицинских масок с использованием *YOLOv8*\n",
    "\n",
    "<center><img src='./imgs/DSPRCV_Proj2_1_1.png'></img></center>\n",
    "\n",
    "[Ноутбук с использованием модели *RetinaNet*](retinanet.ipynb)\n",
    "\n",
    "## <center>Подготовка датасета\n",
    "Датасет был скачан с [<i><b>Kaggle</b></i>](https://www.kaggle.com/datasets/andrewmvd/face-mask-detection)\n",
    "\n",
    "Импортируем необходимые библиотеки"
   ]
  },
  {
   "cell_type": "code",
   "execution_count": 1,
   "metadata": {},
   "outputs": [
    {
     "name": "stdout",
     "output_type": "stream",
     "text": [
      "Available accelerator: cuda\n",
      "\n",
      "Fri Feb  9 18:20:24 2024       \n",
      "+-----------------------------------------------------------------------------------------+\n",
      "| NVIDIA-SMI 550.40.06              Driver Version: 551.23         CUDA Version: 12.4     |\n",
      "|-----------------------------------------+------------------------+----------------------+\n",
      "| GPU  Name                 Persistence-M | Bus-Id          Disp.A | Volatile Uncorr. ECC |\n",
      "| Fan  Temp   Perf          Pwr:Usage/Cap |           Memory-Usage | GPU-Util  Compute M. |\n",
      "|                                         |                        |               MIG M. |\n",
      "|=========================================+========================+======================|\n",
      "|   0  NVIDIA GeForce RTX 3080 Ti     On  |   00000000:01:00.0  On |                  N/A |\n",
      "|  0%   45C    P8             31W /  370W |    1575MiB /  12288MiB |     33%      Default |\n",
      "|                                         |                        |                  N/A |\n",
      "+-----------------------------------------+------------------------+----------------------+\n",
      "                                                                                         \n",
      "+-----------------------------------------------------------------------------------------+\n",
      "| Processes:                                                                              |\n",
      "|  GPU   GI   CI        PID   Type   Process name                              GPU Memory |\n",
      "|        ID   ID                                                               Usage      |\n",
      "|=========================================================================================|\n",
      "|    0   N/A  N/A        23      G   /Xwayland                                   N/A      |\n",
      "+-----------------------------------------------------------------------------------------+\n"
     ]
    }
   ],
   "source": [
    "from ultralytics import YOLO\n",
    "from ultralytics.utils.ops import xyxy2xywh\n",
    "import torch\n",
    "import shutil\n",
    "import os\n",
    "import re\n",
    "from data_classes.custom_dataset import DetectionDataset\n",
    "os.chdir('..')\n",
    "ANNOTATIONS_PATH = './data/annotations/'\n",
    "IMAGES_PATH = './data/images/'\n",
    "YOLO_PATH = './datasets/yolo_data/'\n",
    "LABEL_MAP = {\n",
    "    'with_mask': 0,\n",
    "    'without_mask': 1,\n",
    "    'mask_weared_incorrect': 2\n",
    "}\n",
    "DEVICE = 'cuda' if torch.cuda.is_available() else 'cpu'\n",
    "print(f'Available accelerator: {DEVICE}\\n')\n",
    "if DEVICE == 'cuda':\n",
    "    !nvidia-smi"
   ]
  },
  {
   "cell_type": "markdown",
   "metadata": {},
   "source": [
    "Создадим датафреймы для каждой выборки *train*, *valid*, *test*. Конвертируем координаты из формата $\\{x_{min}, y_{min}, x_{max}, y_{max}\\}$ в формат $\\{x_{c}, y_{c}, w, h\\}$, а также нормализуем полученные координаты, т.к. это необходимо для модели *YOLO*\n",
    "\n",
    "Для формирования и разделения выборок используется [<b>класс датасета</b>](./data_classes/custom_dataset.py)"
   ]
  },
  {
   "cell_type": "code",
   "execution_count": 2,
   "metadata": {},
   "outputs": [
    {
     "data": {
      "text/html": [
       "<div>\n",
       "<style scoped>\n",
       "    .dataframe tbody tr th:only-of-type {\n",
       "        vertical-align: middle;\n",
       "    }\n",
       "\n",
       "    .dataframe tbody tr th {\n",
       "        vertical-align: top;\n",
       "    }\n",
       "\n",
       "    .dataframe thead th {\n",
       "        text-align: right;\n",
       "    }\n",
       "</style>\n",
       "<table border=\"1\" class=\"dataframe\">\n",
       "  <thead>\n",
       "    <tr style=\"text-align: right;\">\n",
       "      <th></th>\n",
       "      <th>name</th>\n",
       "      <th>label</th>\n",
       "      <th>width</th>\n",
       "      <th>height</th>\n",
       "      <th>xmin</th>\n",
       "      <th>ymin</th>\n",
       "      <th>xmax</th>\n",
       "      <th>ymax</th>\n",
       "      <th>xcenter</th>\n",
       "      <th>ycenter</th>\n",
       "      <th>box_width</th>\n",
       "      <th>box_height</th>\n",
       "    </tr>\n",
       "  </thead>\n",
       "  <tbody>\n",
       "    <tr>\n",
       "      <th>0</th>\n",
       "      <td>maksssksksss603.png</td>\n",
       "      <td>0</td>\n",
       "      <td>400</td>\n",
       "      <td>278</td>\n",
       "      <td>49.0</td>\n",
       "      <td>11.0</td>\n",
       "      <td>55.0</td>\n",
       "      <td>17.0</td>\n",
       "      <td>0.13000</td>\n",
       "      <td>0.050360</td>\n",
       "      <td>0.0150</td>\n",
       "      <td>0.021583</td>\n",
       "    </tr>\n",
       "    <tr>\n",
       "      <th>1</th>\n",
       "      <td>maksssksksss603.png</td>\n",
       "      <td>0</td>\n",
       "      <td>400</td>\n",
       "      <td>278</td>\n",
       "      <td>32.0</td>\n",
       "      <td>52.0</td>\n",
       "      <td>40.0</td>\n",
       "      <td>60.0</td>\n",
       "      <td>0.09000</td>\n",
       "      <td>0.201439</td>\n",
       "      <td>0.0200</td>\n",
       "      <td>0.028777</td>\n",
       "    </tr>\n",
       "    <tr>\n",
       "      <th>2</th>\n",
       "      <td>maksssksksss603.png</td>\n",
       "      <td>1</td>\n",
       "      <td>400</td>\n",
       "      <td>278</td>\n",
       "      <td>52.0</td>\n",
       "      <td>76.0</td>\n",
       "      <td>61.0</td>\n",
       "      <td>86.0</td>\n",
       "      <td>0.14125</td>\n",
       "      <td>0.291367</td>\n",
       "      <td>0.0225</td>\n",
       "      <td>0.035971</td>\n",
       "    </tr>\n",
       "    <tr>\n",
       "      <th>3</th>\n",
       "      <td>maksssksksss603.png</td>\n",
       "      <td>0</td>\n",
       "      <td>400</td>\n",
       "      <td>278</td>\n",
       "      <td>47.0</td>\n",
       "      <td>98.0</td>\n",
       "      <td>58.0</td>\n",
       "      <td>109.0</td>\n",
       "      <td>0.13125</td>\n",
       "      <td>0.372302</td>\n",
       "      <td>0.0275</td>\n",
       "      <td>0.039568</td>\n",
       "    </tr>\n",
       "    <tr>\n",
       "      <th>4</th>\n",
       "      <td>maksssksksss603.png</td>\n",
       "      <td>0</td>\n",
       "      <td>400</td>\n",
       "      <td>278</td>\n",
       "      <td>68.0</td>\n",
       "      <td>100.0</td>\n",
       "      <td>75.0</td>\n",
       "      <td>111.0</td>\n",
       "      <td>0.17875</td>\n",
       "      <td>0.379496</td>\n",
       "      <td>0.0175</td>\n",
       "      <td>0.039568</td>\n",
       "    </tr>\n",
       "  </tbody>\n",
       "</table>\n",
       "</div>"
      ],
      "text/plain": [
       "                  name  label  width  height  xmin   ymin  xmax   ymax  \\\n",
       "0  maksssksksss603.png      0    400     278  49.0   11.0  55.0   17.0   \n",
       "1  maksssksksss603.png      0    400     278  32.0   52.0  40.0   60.0   \n",
       "2  maksssksksss603.png      1    400     278  52.0   76.0  61.0   86.0   \n",
       "3  maksssksksss603.png      0    400     278  47.0   98.0  58.0  109.0   \n",
       "4  maksssksksss603.png      0    400     278  68.0  100.0  75.0  111.0   \n",
       "\n",
       "   xcenter   ycenter  box_width  box_height  \n",
       "0  0.13000  0.050360     0.0150    0.021583  \n",
       "1  0.09000  0.201439     0.0200    0.028777  \n",
       "2  0.14125  0.291367     0.0225    0.035971  \n",
       "3  0.13125  0.372302     0.0275    0.039568  \n",
       "4  0.17875  0.379496     0.0175    0.039568  "
      ]
     },
     "execution_count": 2,
     "metadata": {},
     "output_type": "execute_result"
    }
   ],
   "source": [
    "train_dataset = DetectionDataset(IMAGES_PATH, ANNOTATIONS_PATH, split='train')\n",
    "train_df, full_df = train_dataset.split_df.copy(), train_dataset.full_df.copy()\n",
    "valid_df = DetectionDataset(IMAGES_PATH, ANNOTATIONS_PATH, split='val').split_df.copy()\n",
    "test_df = DetectionDataset(IMAGES_PATH, ANNOTATIONS_PATH, split='test').split_df.copy()\n",
    "for df in [train_df, valid_df, test_df, full_df]:\n",
    "    df[['xcenter', 'ycenter', 'box_width', 'box_height']] = xyxy2xywh(df[['xmin', 'ymin', 'xmax', 'ymax']].values)\n",
    "    df['xcenter'] = df['xcenter'] / df['width']\n",
    "    df['ycenter'] = df['ycenter'] / df['height']\n",
    "    df['box_width'] = df['box_width'] / df['width']\n",
    "    df['box_height'] = df['box_height'] / df['height']\n",
    "    df['label'] = df['label'].map(LABEL_MAP)\n",
    "\n",
    "full_df.head()"
   ]
  },
  {
   "cell_type": "markdown",
   "metadata": {},
   "source": [
    "Сделаем правильный формат датасета для модели *YOLO*."
   ]
  },
  {
   "cell_type": "code",
   "execution_count": 3,
   "metadata": {},
   "outputs": [],
   "source": [
    "for sample, df in [('train', train_df), ('val', valid_df), ('test', test_df)]:\n",
    "    sample_path_imgs = os.path.join(YOLO_PATH, 'images', sample)\n",
    "    sample_path_labels = os.path.join(YOLO_PATH, 'labels', sample)\n",
    "    if not os.path.exists(sample_path_imgs):\n",
    "        os.makedirs(sample_path_imgs)\n",
    "    if not os.path.exists(sample_path_labels):\n",
    "        os.makedirs(sample_path_labels)\n",
    "    unique_images = df['name'].unique()\n",
    "    for img in unique_images:\n",
    "        img_df = full_df[full_df['name'] == img]\n",
    "        labels_string = ''\n",
    "        for row in img_df.iterrows():\n",
    "            row_series = row[1]\n",
    "            row_label = f'{row_series.label} {row_series.xcenter} {row_series.ycenter} {row_series.box_width} {row_series.box_height}\\n'\n",
    "            labels_string += row_label\n",
    "        shutil.copy(os.path.join(IMAGES_PATH, img), os.path.join(sample_path_imgs))\n",
    "        txt_name = re.sub(r'\\.+[a-z]*', '.txt', img)\n",
    "        with open(os.path.join(sample_path_labels, txt_name), 'w') as txt_label:\n",
    "            txt_label.write(labels_string.rstrip('\\n'))"
   ]
  },
  {
   "cell_type": "markdown",
   "metadata": {},
   "source": [
    "Проверим, что датасет сформирован верно"
   ]
  },
  {
   "cell_type": "code",
   "execution_count": 4,
   "metadata": {},
   "outputs": [
    {
     "name": "stdout",
     "output_type": "stream",
     "text": [
      "\u001b[01;34m./datasets\u001b[0m\n",
      "└── \u001b[01;34myolo_data\u001b[0m\n",
      "    ├── \u001b[01;34mimages\u001b[0m\n",
      "    │   ├── \u001b[01;34mtest\u001b[0m\n",
      "    │   ├── \u001b[01;34mtrain\u001b[0m\n",
      "    │   └── \u001b[01;34mval\u001b[0m\n",
      "    └── \u001b[01;34mlabels\u001b[0m\n",
      "        ├── \u001b[01;34mtest\u001b[0m\n",
      "        ├── \u001b[01;34mtrain\u001b[0m\n",
      "        └── \u001b[01;34mval\u001b[0m\n",
      "\n",
      "9 directories\n"
     ]
    }
   ],
   "source": [
    "!tree ./datasets -d"
   ]
  },
  {
   "cell_type": "markdown",
   "metadata": {},
   "source": [
    "## <center>Обучение модели\n",
    "Обучим (*fine-tuning*) модель с суффиксом `l` (*Large*) на 50 эпохах\n",
    "\n",
    "[<b>masks.yaml</b>](./voc.yaml) - файл, необходимый для конфигурации модели: путь к выборкам, количество классов и их расшифровка"
   ]
  },
  {
   "cell_type": "code",
   "execution_count": 5,
   "metadata": {},
   "outputs": [
    {
     "name": "stdout",
     "output_type": "stream",
     "text": [
      "New https://pypi.org/project/ultralytics/8.1.11 available 😃 Update with 'pip install -U ultralytics'\n",
      "Ultralytics YOLOv8.1.10 🚀 Python-3.11.5 torch-2.1.2+cu121 CUDA:0 (NVIDIA GeForce RTX 3080 Ti, 12288MiB)\n",
      "\u001b[34m\u001b[1mengine/trainer: \u001b[0mtask=detect, mode=train, model=yolov8l.pt, data=masks.yaml, epochs=50, time=None, patience=50, batch=8, imgsz=512, save=True, save_period=-1, cache=False, device=None, workers=8, project=None, name=train, exist_ok=False, pretrained=True, optimizer=auto, verbose=True, seed=0, deterministic=True, single_cls=False, rect=False, cos_lr=False, close_mosaic=10, resume=False, amp=True, fraction=1.0, profile=False, freeze=None, multi_scale=False, overlap_mask=True, mask_ratio=4, dropout=0.0, val=True, split=val, save_json=False, save_hybrid=False, conf=None, iou=0.7, max_det=300, half=False, dnn=False, plots=True, source=None, vid_stride=1, stream_buffer=False, visualize=True, augment=False, agnostic_nms=False, classes=None, retina_masks=False, embed=None, show=False, save_frames=False, save_txt=False, save_conf=False, save_crop=False, show_labels=True, show_conf=True, show_boxes=True, line_width=None, format=torchscript, keras=False, optimize=False, int8=False, dynamic=False, simplify=False, opset=None, workspace=4, nms=False, lr0=0.01, lrf=0.01, momentum=0.937, weight_decay=0.0005, warmup_epochs=3.0, warmup_momentum=0.8, warmup_bias_lr=0.1, box=7.5, cls=0.5, dfl=1.5, pose=12.0, kobj=1.0, label_smoothing=0.0, nbs=64, hsv_h=0.015, hsv_s=0.7, hsv_v=0.4, degrees=0.0, translate=0.1, scale=0.5, shear=0.0, perspective=0.0, flipud=0.0, fliplr=0.5, mosaic=1.0, mixup=0.0, copy_paste=0.0, auto_augment=randaugment, erasing=0.4, crop_fraction=1.0, cfg=None, tracker=botsort.yaml, save_dir=runs/detect/train\n"
     ]
    },
    {
     "name": "stderr",
     "output_type": "stream",
     "text": [
      "2024-02-09 17:15:36.169488: E external/local_xla/xla/stream_executor/cuda/cuda_dnn.cc:9261] Unable to register cuDNN factory: Attempting to register factory for plugin cuDNN when one has already been registered\n",
      "2024-02-09 17:15:36.169520: E external/local_xla/xla/stream_executor/cuda/cuda_fft.cc:607] Unable to register cuFFT factory: Attempting to register factory for plugin cuFFT when one has already been registered\n",
      "2024-02-09 17:15:36.205563: E external/local_xla/xla/stream_executor/cuda/cuda_blas.cc:1515] Unable to register cuBLAS factory: Attempting to register factory for plugin cuBLAS when one has already been registered\n"
     ]
    },
    {
     "name": "stdout",
     "output_type": "stream",
     "text": [
      "Overriding model.yaml nc=80 with nc=3\n",
      "\n",
      "                   from  n    params  module                                       arguments                     \n",
      "  0                  -1  1      1856  ultralytics.nn.modules.conv.Conv             [3, 64, 3, 2]                 \n",
      "  1                  -1  1     73984  ultralytics.nn.modules.conv.Conv             [64, 128, 3, 2]               \n",
      "  2                  -1  3    279808  ultralytics.nn.modules.block.C2f             [128, 128, 3, True]           \n",
      "  3                  -1  1    295424  ultralytics.nn.modules.conv.Conv             [128, 256, 3, 2]              \n",
      "  4                  -1  6   2101248  ultralytics.nn.modules.block.C2f             [256, 256, 6, True]           \n",
      "  5                  -1  1   1180672  ultralytics.nn.modules.conv.Conv             [256, 512, 3, 2]              \n",
      "  6                  -1  6   8396800  ultralytics.nn.modules.block.C2f             [512, 512, 6, True]           \n",
      "  7                  -1  1   2360320  ultralytics.nn.modules.conv.Conv             [512, 512, 3, 2]              \n",
      "  8                  -1  3   4461568  ultralytics.nn.modules.block.C2f             [512, 512, 3, True]           \n",
      "  9                  -1  1    656896  ultralytics.nn.modules.block.SPPF            [512, 512, 5]                 \n",
      " 10                  -1  1         0  torch.nn.modules.upsampling.Upsample         [None, 2, 'nearest']          \n",
      " 11             [-1, 6]  1         0  ultralytics.nn.modules.conv.Concat           [1]                           \n",
      " 12                  -1  3   4723712  ultralytics.nn.modules.block.C2f             [1024, 512, 3]                \n",
      " 13                  -1  1         0  torch.nn.modules.upsampling.Upsample         [None, 2, 'nearest']          \n",
      " 14             [-1, 4]  1         0  ultralytics.nn.modules.conv.Concat           [1]                           \n",
      " 15                  -1  3   1247744  ultralytics.nn.modules.block.C2f             [768, 256, 3]                 \n",
      " 16                  -1  1    590336  ultralytics.nn.modules.conv.Conv             [256, 256, 3, 2]              \n",
      " 17            [-1, 12]  1         0  ultralytics.nn.modules.conv.Concat           [1]                           \n",
      " 18                  -1  3   4592640  ultralytics.nn.modules.block.C2f             [768, 512, 3]                 \n",
      " 19                  -1  1   2360320  ultralytics.nn.modules.conv.Conv             [512, 512, 3, 2]              \n",
      " 20             [-1, 9]  1         0  ultralytics.nn.modules.conv.Concat           [1]                           \n",
      " 21                  -1  3   4723712  ultralytics.nn.modules.block.C2f             [1024, 512, 3]                \n",
      " 22        [15, 18, 21]  1   5585113  ultralytics.nn.modules.head.Detect           [3, [256, 512, 512]]          \n",
      "Model summary: 365 layers, 43632153 parameters, 43632137 gradients, 165.4 GFLOPs\n",
      "\n",
      "Transferred 589/595 items from pretrained weights\n",
      "\u001b[34m\u001b[1mTensorBoard: \u001b[0mStart with 'tensorboard --logdir runs/detect/train', view at http://localhost:6006/\n",
      "Freezing layer 'model.22.dfl.conv.weight'\n",
      "\u001b[34m\u001b[1mAMP: \u001b[0mrunning Automatic Mixed Precision (AMP) checks with YOLOv8n...\n",
      "Downloading https://github.com/ultralytics/assets/releases/download/v8.1.0/yolov8n.pt to 'yolov8n.pt'...\n"
     ]
    },
    {
     "name": "stderr",
     "output_type": "stream",
     "text": [
      "100%|██████████| 6.23M/6.23M [00:00<00:00, 26.2MB/s]\n"
     ]
    },
    {
     "name": "stdout",
     "output_type": "stream",
     "text": [
      "\u001b[34m\u001b[1mAMP: \u001b[0mchecks passed ✅\n"
     ]
    },
    {
     "name": "stderr",
     "output_type": "stream",
     "text": [
      "\u001b[34m\u001b[1mtrain: \u001b[0mScanning /home/deep_learning/Detection of medical masks/datasets/yolo_data/labels/train... 742 images, 0 backgrounds, 0 corrupt: 100%|██████████| 742/742 [00:01<00:00, 442.84it/s]"
     ]
    },
    {
     "name": "stdout",
     "output_type": "stream",
     "text": [
      "\u001b[34m\u001b[1mtrain: \u001b[0mNew cache created: /home/deep_learning/Detection of medical masks/datasets/yolo_data/labels/train.cache\n",
      "\u001b[34m\u001b[1malbumentations: \u001b[0mBlur(p=0.01, blur_limit=(3, 7)), MedianBlur(p=0.01, blur_limit=(3, 7)), ToGray(p=0.01), CLAHE(p=0.01, clip_limit=(1, 4.0), tile_grid_size=(8, 8))\n"
     ]
    },
    {
     "name": "stderr",
     "output_type": "stream",
     "text": [
      "\n",
      "\u001b[34m\u001b[1mval: \u001b[0mScanning /home/deep_learning/Detection of medical masks/datasets/yolo_data/labels/val... 347 images, 0 backgrounds, 0 corrupt: 100%|██████████| 347/347 [00:00<00:00, 416.92it/s]"
     ]
    },
    {
     "name": "stdout",
     "output_type": "stream",
     "text": [
      "\u001b[34m\u001b[1mval: \u001b[0mNew cache created: /home/deep_learning/Detection of medical masks/datasets/yolo_data/labels/val.cache\n"
     ]
    },
    {
     "name": "stderr",
     "output_type": "stream",
     "text": [
      "\n"
     ]
    },
    {
     "name": "stdout",
     "output_type": "stream",
     "text": [
      "Plotting labels to runs/detect/train/labels.jpg... \n"
     ]
    },
    {
     "name": "stderr",
     "output_type": "stream",
     "text": [
      "libpng warning: iCCP: Not recognizing known sRGB profile that has been edited\n"
     ]
    },
    {
     "name": "stdout",
     "output_type": "stream",
     "text": [
      "\u001b[34m\u001b[1moptimizer:\u001b[0m 'optimizer=auto' found, ignoring 'lr0=0.01' and 'momentum=0.937' and determining best 'optimizer', 'lr0' and 'momentum' automatically... \n",
      "\u001b[34m\u001b[1moptimizer:\u001b[0m AdamW(lr=0.001429, momentum=0.9) with parameter groups 97 weight(decay=0.0), 104 weight(decay=0.0005), 103 bias(decay=0.0)\n",
      "\u001b[34m\u001b[1mTensorBoard: \u001b[0mmodel graph visualization added ✅\n",
      "Image sizes 512 train, 512 val\n",
      "Using 8 dataloader workers\n",
      "Logging results to \u001b[1mruns/detect/train\u001b[0m\n",
      "Starting training for 50 epochs...\n",
      "\n",
      "      Epoch    GPU_mem   box_loss   cls_loss   dfl_loss  Instances       Size\n"
     ]
    },
    {
     "name": "stderr",
     "output_type": "stream",
     "text": [
      "       1/50      4.12G      1.534      1.763      1.266         43        512:  72%|███████▏  | 67/93 [00:09<00:03,  7.74it/s]libpng warning: iCCP: Not recognizing known sRGB profile that has been edited\n",
      "       1/50      4.12G       1.46      1.547      1.209         40        512: 100%|██████████| 93/93 [00:12<00:00,  7.46it/s]\n",
      "                 Class     Images  Instances      Box(P          R      mAP50  mAP50-95):  23%|██▎       | 5/22 [00:00<00:02,  8.20it/s]libpng warning: iCCP: Not recognizing known sRGB profile that has been edited\n",
      "                 Class     Images  Instances      Box(P          R      mAP50  mAP50-95): 100%|██████████| 22/22 [00:02<00:00,  7.82it/s]"
     ]
    },
    {
     "name": "stdout",
     "output_type": "stream",
     "text": [
      "                   all        347       2809      0.902      0.487      0.538      0.316\n"
     ]
    },
    {
     "name": "stderr",
     "output_type": "stream",
     "text": [
      "\n"
     ]
    },
    {
     "name": "stdout",
     "output_type": "stream",
     "text": [
      "\n",
      "      Epoch    GPU_mem   box_loss   cls_loss   dfl_loss  Instances       Size\n"
     ]
    },
    {
     "name": "stderr",
     "output_type": "stream",
     "text": [
      "       2/50      4.18G      1.291     0.9427       1.11         92        512:  56%|█████▌    | 52/93 [00:06<00:04,  8.44it/s]libpng warning: iCCP: Not recognizing known sRGB profile that has been edited\n",
      "       2/50      4.18G      1.287     0.9421       1.11         43        512: 100%|██████████| 93/93 [00:11<00:00,  8.31it/s]\n",
      "                 Class     Images  Instances      Box(P          R      mAP50  mAP50-95):  18%|█▊        | 4/22 [00:00<00:01, 10.14it/s]libpng warning: iCCP: Not recognizing known sRGB profile that has been edited\n",
      "                 Class     Images  Instances      Box(P          R      mAP50  mAP50-95): 100%|██████████| 22/22 [00:02<00:00,  9.86it/s]\n"
     ]
    },
    {
     "name": "stdout",
     "output_type": "stream",
     "text": [
      "                   all        347       2809      0.135      0.205     0.0589     0.0338\n",
      "\n",
      "      Epoch    GPU_mem   box_loss   cls_loss   dfl_loss  Instances       Size\n"
     ]
    },
    {
     "name": "stderr",
     "output_type": "stream",
     "text": [
      "       3/50       4.2G      1.315      0.992      1.124         73        512:  18%|█▊        | 17/93 [00:02<00:09,  8.34it/s]libpng warning: iCCP: Not recognizing known sRGB profile that has been edited\n",
      "       3/50       4.2G      1.303      0.953      1.114         49        512: 100%|██████████| 93/93 [00:11<00:00,  8.40it/s]\n",
      "                 Class     Images  Instances      Box(P          R      mAP50  mAP50-95):  23%|██▎       | 5/22 [00:00<00:01,  9.64it/s]libpng warning: iCCP: Not recognizing known sRGB profile that has been edited\n",
      "                 Class     Images  Instances      Box(P          R      mAP50  mAP50-95): 100%|██████████| 22/22 [00:02<00:00, 10.20it/s]"
     ]
    },
    {
     "name": "stdout",
     "output_type": "stream",
     "text": [
      "                   all        347       2809      0.562      0.465      0.512      0.293\n"
     ]
    },
    {
     "name": "stderr",
     "output_type": "stream",
     "text": [
      "\n"
     ]
    },
    {
     "name": "stdout",
     "output_type": "stream",
     "text": [
      "\n",
      "      Epoch    GPU_mem   box_loss   cls_loss   dfl_loss  Instances       Size\n"
     ]
    },
    {
     "name": "stderr",
     "output_type": "stream",
     "text": [
      "       4/50      4.18G      1.264     0.8867      1.103         96        512:  75%|███████▌  | 70/93 [00:08<00:02,  8.63it/s]libpng warning: iCCP: Not recognizing known sRGB profile that has been edited\n",
      "       4/50      4.19G      1.261     0.8829      1.102         52        512: 100%|██████████| 93/93 [00:10<00:00,  8.47it/s]\n",
      "                 Class     Images  Instances      Box(P          R      mAP50  mAP50-95):  23%|██▎       | 5/22 [00:00<00:01, 10.70it/s]libpng warning: iCCP: Not recognizing known sRGB profile that has been edited\n",
      "                 Class     Images  Instances      Box(P          R      mAP50  mAP50-95): 100%|██████████| 22/22 [00:02<00:00, 10.43it/s]"
     ]
    },
    {
     "name": "stdout",
     "output_type": "stream",
     "text": [
      "                   all        347       2809      0.819      0.615      0.696       0.43\n"
     ]
    },
    {
     "name": "stderr",
     "output_type": "stream",
     "text": [
      "\n"
     ]
    },
    {
     "name": "stdout",
     "output_type": "stream",
     "text": [
      "\n",
      "      Epoch    GPU_mem   box_loss   cls_loss   dfl_loss  Instances       Size\n"
     ]
    },
    {
     "name": "stderr",
     "output_type": "stream",
     "text": [
      "       5/50       4.2G      1.225     0.8162      1.114         72        512:  34%|███▍      | 32/93 [00:03<00:07,  8.37it/s]libpng warning: iCCP: Not recognizing known sRGB profile that has been edited\n",
      "       5/50      4.21G      1.225     0.8369      1.102         74        512:  84%|████████▍ | 78/93 [00:09<00:01,  8.54it/s]libpng warning: iCCP: Not recognizing known sRGB profile that has been edited\n",
      "       5/50      4.21G      1.228     0.8346        1.1        105        512: 100%|██████████| 93/93 [00:11<00:00,  8.41it/s]\n",
      "                 Class     Images  Instances      Box(P          R      mAP50  mAP50-95):  18%|█▊        | 4/22 [00:00<00:01, 10.20it/s]libpng warning: iCCP: Not recognizing known sRGB profile that has been edited\n",
      "                 Class     Images  Instances      Box(P          R      mAP50  mAP50-95): 100%|██████████| 22/22 [00:02<00:00, 10.20it/s]"
     ]
    },
    {
     "name": "stdout",
     "output_type": "stream",
     "text": [
      "                   all        347       2809      0.776      0.619      0.694      0.417\n"
     ]
    },
    {
     "name": "stderr",
     "output_type": "stream",
     "text": [
      "\n"
     ]
    },
    {
     "name": "stdout",
     "output_type": "stream",
     "text": [
      "\n",
      "      Epoch    GPU_mem   box_loss   cls_loss   dfl_loss  Instances       Size\n"
     ]
    },
    {
     "name": "stderr",
     "output_type": "stream",
     "text": [
      "       6/50      4.18G      1.231     0.7876      1.102        165        512: 100%|██████████| 93/93 [00:10<00:00,  8.49it/s]\n",
      "                 Class     Images  Instances      Box(P          R      mAP50  mAP50-95):  18%|█▊        | 4/22 [00:00<00:01, 12.38it/s]libpng warning: iCCP: Not recognizing known sRGB profile that has been edited\n",
      "                 Class     Images  Instances      Box(P          R      mAP50  mAP50-95): 100%|██████████| 22/22 [00:02<00:00, 10.90it/s]"
     ]
    },
    {
     "name": "stdout",
     "output_type": "stream",
     "text": [
      "                   all        347       2809      0.696      0.661       0.68      0.432\n"
     ]
    },
    {
     "name": "stderr",
     "output_type": "stream",
     "text": [
      "\n"
     ]
    },
    {
     "name": "stdout",
     "output_type": "stream",
     "text": [
      "\n",
      "      Epoch    GPU_mem   box_loss   cls_loss   dfl_loss  Instances       Size\n"
     ]
    },
    {
     "name": "stderr",
     "output_type": "stream",
     "text": [
      "       7/50       4.2G      1.244     0.8216      1.099        114        512:  27%|██▋       | 25/93 [00:03<00:07,  8.51it/s]libpng warning: iCCP: Not recognizing known sRGB profile that has been edited\n",
      "       7/50      4.21G      1.182     0.7714      1.074         31        512: 100%|██████████| 93/93 [00:10<00:00,  8.48it/s]\n",
      "                 Class     Images  Instances      Box(P          R      mAP50  mAP50-95):  18%|█▊        | 4/22 [00:00<00:01, 11.29it/s]libpng warning: iCCP: Not recognizing known sRGB profile that has been edited\n",
      "                 Class     Images  Instances      Box(P          R      mAP50  mAP50-95): 100%|██████████| 22/22 [00:02<00:00, 10.84it/s]"
     ]
    },
    {
     "name": "stdout",
     "output_type": "stream",
     "text": [
      "                   all        347       2809      0.783      0.709      0.768      0.475\n"
     ]
    },
    {
     "name": "stderr",
     "output_type": "stream",
     "text": [
      "\n"
     ]
    },
    {
     "name": "stdout",
     "output_type": "stream",
     "text": [
      "\n",
      "      Epoch    GPU_mem   box_loss   cls_loss   dfl_loss  Instances       Size\n"
     ]
    },
    {
     "name": "stderr",
     "output_type": "stream",
     "text": [
      "       8/50      4.18G      1.166     0.7474      1.055        102        512:  31%|███       | 29/93 [00:03<00:07,  8.61it/s]libpng warning: iCCP: Not recognizing known sRGB profile that has been edited\n",
      "       8/50      4.19G      1.161     0.7415      1.056         53        512: 100%|██████████| 93/93 [00:10<00:00,  8.46it/s]\n",
      "                 Class     Images  Instances      Box(P          R      mAP50  mAP50-95):  23%|██▎       | 5/22 [00:00<00:01, 11.00it/s]libpng warning: iCCP: Not recognizing known sRGB profile that has been edited\n",
      "                 Class     Images  Instances      Box(P          R      mAP50  mAP50-95): 100%|██████████| 22/22 [00:02<00:00, 10.88it/s]"
     ]
    },
    {
     "name": "stdout",
     "output_type": "stream",
     "text": [
      "                   all        347       2809      0.825      0.729      0.795      0.503\n"
     ]
    },
    {
     "name": "stderr",
     "output_type": "stream",
     "text": [
      "\n"
     ]
    },
    {
     "name": "stdout",
     "output_type": "stream",
     "text": [
      "\n",
      "      Epoch    GPU_mem   box_loss   cls_loss   dfl_loss  Instances       Size\n"
     ]
    },
    {
     "name": "stderr",
     "output_type": "stream",
     "text": [
      "       9/50      4.19G      1.153     0.7427      1.069        125        512:  35%|███▌      | 33/93 [00:03<00:07,  8.30it/s]libpng warning: iCCP: Not recognizing known sRGB profile that has been edited\n",
      "       9/50      4.19G      1.187     0.7325       1.06         63        512:  89%|████████▉ | 83/93 [00:09<00:01,  8.48it/s]libpng warning: iCCP: Not recognizing known sRGB profile that has been edited\n",
      "       9/50      4.19G      1.182     0.7301       1.06         31        512: 100%|██████████| 93/93 [00:11<00:00,  8.45it/s]\n",
      "                 Class     Images  Instances      Box(P          R      mAP50  mAP50-95):  18%|█▊        | 4/22 [00:00<00:01, 11.22it/s]libpng warning: iCCP: Not recognizing known sRGB profile that has been edited\n",
      "                 Class     Images  Instances      Box(P          R      mAP50  mAP50-95): 100%|██████████| 22/22 [00:02<00:00, 10.97it/s]"
     ]
    },
    {
     "name": "stdout",
     "output_type": "stream",
     "text": [
      "                   all        347       2809      0.877       0.69      0.791      0.515\n"
     ]
    },
    {
     "name": "stderr",
     "output_type": "stream",
     "text": [
      "\n"
     ]
    },
    {
     "name": "stdout",
     "output_type": "stream",
     "text": [
      "\n",
      "      Epoch    GPU_mem   box_loss   cls_loss   dfl_loss  Instances       Size\n"
     ]
    },
    {
     "name": "stderr",
     "output_type": "stream",
     "text": [
      "      10/50      4.19G      1.134     0.6993      1.047         48        512: 100%|██████████| 93/93 [00:10<00:00,  8.54it/s]\n",
      "                 Class     Images  Instances      Box(P          R      mAP50  mAP50-95):  18%|█▊        | 4/22 [00:00<00:01, 12.32it/s]libpng warning: iCCP: Not recognizing known sRGB profile that has been edited\n",
      "                 Class     Images  Instances      Box(P          R      mAP50  mAP50-95): 100%|██████████| 22/22 [00:01<00:00, 11.27it/s]"
     ]
    },
    {
     "name": "stdout",
     "output_type": "stream",
     "text": [
      "                   all        347       2809      0.862      0.719      0.802      0.509\n"
     ]
    },
    {
     "name": "stderr",
     "output_type": "stream",
     "text": [
      "\n"
     ]
    },
    {
     "name": "stdout",
     "output_type": "stream",
     "text": [
      "\n",
      "      Epoch    GPU_mem   box_loss   cls_loss   dfl_loss  Instances       Size\n"
     ]
    },
    {
     "name": "stderr",
     "output_type": "stream",
     "text": [
      "      11/50      4.19G      1.148     0.7041      1.043         84        512:  70%|██████▉   | 65/93 [00:07<00:03,  8.24it/s]libpng warning: iCCP: Not recognizing known sRGB profile that has been edited\n",
      "      11/50      4.19G      1.151     0.7095      1.057         31        512: 100%|██████████| 93/93 [00:11<00:00,  8.39it/s]\n",
      "                 Class     Images  Instances      Box(P          R      mAP50  mAP50-95):  18%|█▊        | 4/22 [00:00<00:01, 10.87it/s]libpng warning: iCCP: Not recognizing known sRGB profile that has been edited\n",
      "                 Class     Images  Instances      Box(P          R      mAP50  mAP50-95): 100%|██████████| 22/22 [00:02<00:00, 10.73it/s]"
     ]
    },
    {
     "name": "stdout",
     "output_type": "stream",
     "text": [
      "                   all        347       2809      0.838      0.744      0.814      0.533\n"
     ]
    },
    {
     "name": "stderr",
     "output_type": "stream",
     "text": [
      "\n"
     ]
    },
    {
     "name": "stdout",
     "output_type": "stream",
     "text": [
      "\n",
      "      Epoch    GPU_mem   box_loss   cls_loss   dfl_loss  Instances       Size\n"
     ]
    },
    {
     "name": "stderr",
     "output_type": "stream",
     "text": [
      "      12/50       4.2G      1.113     0.6587      1.031         81        512:  58%|█████▊    | 54/93 [00:06<00:04,  8.76it/s]libpng warning: iCCP: Not recognizing known sRGB profile that has been edited\n",
      "      12/50       4.2G      1.104     0.6572      1.025        159        512:  87%|████████▋ | 81/93 [00:09<00:01,  8.63it/s]libpng warning: iCCP: Not recognizing known sRGB profile that has been edited\n",
      "      12/50       4.2G      1.102     0.6552      1.021         53        512: 100%|██████████| 93/93 [00:10<00:00,  8.50it/s]\n",
      "                 Class     Images  Instances      Box(P          R      mAP50  mAP50-95):  18%|█▊        | 4/22 [00:00<00:01, 11.97it/s]libpng warning: iCCP: Not recognizing known sRGB profile that has been edited\n",
      "                 Class     Images  Instances      Box(P          R      mAP50  mAP50-95): 100%|██████████| 22/22 [00:02<00:00, 10.90it/s]"
     ]
    },
    {
     "name": "stdout",
     "output_type": "stream",
     "text": [
      "                   all        347       2809      0.873      0.738      0.829      0.534\n"
     ]
    },
    {
     "name": "stderr",
     "output_type": "stream",
     "text": [
      "\n"
     ]
    },
    {
     "name": "stdout",
     "output_type": "stream",
     "text": [
      "\n",
      "      Epoch    GPU_mem   box_loss   cls_loss   dfl_loss  Instances       Size\n"
     ]
    },
    {
     "name": "stderr",
     "output_type": "stream",
     "text": [
      "      13/50      4.19G      1.106     0.6552      1.032         39        512: 100%|██████████| 93/93 [00:10<00:00,  8.52it/s]\n",
      "                 Class     Images  Instances      Box(P          R      mAP50  mAP50-95):  18%|█▊        | 4/22 [00:00<00:01, 11.66it/s]libpng warning: iCCP: Not recognizing known sRGB profile that has been edited\n",
      "                 Class     Images  Instances      Box(P          R      mAP50  mAP50-95): 100%|██████████| 22/22 [00:02<00:00, 10.55it/s]"
     ]
    },
    {
     "name": "stdout",
     "output_type": "stream",
     "text": [
      "                   all        347       2809      0.848      0.766      0.827      0.534\n"
     ]
    },
    {
     "name": "stderr",
     "output_type": "stream",
     "text": [
      "\n"
     ]
    },
    {
     "name": "stdout",
     "output_type": "stream",
     "text": [
      "\n",
      "      Epoch    GPU_mem   box_loss   cls_loss   dfl_loss  Instances       Size\n"
     ]
    },
    {
     "name": "stderr",
     "output_type": "stream",
     "text": [
      "      14/50      4.18G      1.092     0.6415      1.033         55        512:  72%|███████▏  | 67/93 [00:08<00:03,  8.53it/s]libpng warning: iCCP: Not recognizing known sRGB profile that has been edited\n",
      "      14/50      4.18G      1.107     0.6439      1.028         34        512: 100%|██████████| 93/93 [00:11<00:00,  8.39it/s]\n",
      "                 Class     Images  Instances      Box(P          R      mAP50  mAP50-95):  18%|█▊        | 4/22 [00:00<00:01, 11.76it/s]libpng warning: iCCP: Not recognizing known sRGB profile that has been edited\n",
      "                 Class     Images  Instances      Box(P          R      mAP50  mAP50-95): 100%|██████████| 22/22 [00:02<00:00, 10.71it/s]"
     ]
    },
    {
     "name": "stdout",
     "output_type": "stream",
     "text": [
      "                   all        347       2809      0.889      0.753      0.853      0.538\n"
     ]
    },
    {
     "name": "stderr",
     "output_type": "stream",
     "text": [
      "\n"
     ]
    },
    {
     "name": "stdout",
     "output_type": "stream",
     "text": [
      "\n",
      "      Epoch    GPU_mem   box_loss   cls_loss   dfl_loss  Instances       Size\n"
     ]
    },
    {
     "name": "stderr",
     "output_type": "stream",
     "text": [
      "      15/50       4.2G      1.109     0.6669      1.075         51        512:   8%|▊         | 7/93 [00:00<00:10,  8.48it/s]libpng warning: iCCP: Not recognizing known sRGB profile that has been edited\n",
      "      15/50       4.2G        1.1     0.6466      1.036         88        512:  88%|████████▊ | 82/93 [00:09<00:01,  8.61it/s]libpng warning: iCCP: Not recognizing known sRGB profile that has been edited\n",
      "      15/50       4.2G      1.098     0.6421      1.031         91        512: 100%|██████████| 93/93 [00:11<00:00,  8.41it/s]\n",
      "                 Class     Images  Instances      Box(P          R      mAP50  mAP50-95):  18%|█▊        | 4/22 [00:00<00:01, 11.12it/s]libpng warning: iCCP: Not recognizing known sRGB profile that has been edited\n",
      "                 Class     Images  Instances      Box(P          R      mAP50  mAP50-95): 100%|██████████| 22/22 [00:02<00:00, 10.84it/s]"
     ]
    },
    {
     "name": "stdout",
     "output_type": "stream",
     "text": [
      "                   all        347       2809      0.909      0.757      0.854      0.579\n"
     ]
    },
    {
     "name": "stderr",
     "output_type": "stream",
     "text": [
      "\n"
     ]
    },
    {
     "name": "stdout",
     "output_type": "stream",
     "text": [
      "\n",
      "      Epoch    GPU_mem   box_loss   cls_loss   dfl_loss  Instances       Size\n"
     ]
    },
    {
     "name": "stderr",
     "output_type": "stream",
     "text": [
      "      16/50       4.2G      1.077     0.6167      1.026         81        512: 100%|██████████| 93/93 [00:11<00:00,  8.37it/s]\n",
      "                 Class     Images  Instances      Box(P          R      mAP50  mAP50-95):  18%|█▊        | 4/22 [00:00<00:01, 12.08it/s]libpng warning: iCCP: Not recognizing known sRGB profile that has been edited\n",
      "                 Class     Images  Instances      Box(P          R      mAP50  mAP50-95): 100%|██████████| 22/22 [00:02<00:00, 10.95it/s]"
     ]
    },
    {
     "name": "stdout",
     "output_type": "stream",
     "text": [
      "                   all        347       2809      0.912        0.7      0.806      0.521\n"
     ]
    },
    {
     "name": "stderr",
     "output_type": "stream",
     "text": [
      "\n"
     ]
    },
    {
     "name": "stdout",
     "output_type": "stream",
     "text": [
      "\n",
      "      Epoch    GPU_mem   box_loss   cls_loss   dfl_loss  Instances       Size\n"
     ]
    },
    {
     "name": "stderr",
     "output_type": "stream",
     "text": [
      "      17/50      4.18G      1.076      0.643      1.015        102        512:  46%|████▌     | 43/93 [00:05<00:06,  8.16it/s]libpng warning: iCCP: Not recognizing known sRGB profile that has been edited\n",
      "      17/50      4.18G      1.088     0.6359      1.025         47        512: 100%|██████████| 93/93 [00:11<00:00,  8.37it/s]\n",
      "                 Class     Images  Instances      Box(P          R      mAP50  mAP50-95):  18%|█▊        | 4/22 [00:00<00:01, 11.59it/s]libpng warning: iCCP: Not recognizing known sRGB profile that has been edited\n",
      "                 Class     Images  Instances      Box(P          R      mAP50  mAP50-95): 100%|██████████| 22/22 [00:01<00:00, 11.25it/s]"
     ]
    },
    {
     "name": "stdout",
     "output_type": "stream",
     "text": [
      "                   all        347       2809      0.894      0.778       0.87      0.568\n"
     ]
    },
    {
     "name": "stderr",
     "output_type": "stream",
     "text": [
      "\n"
     ]
    },
    {
     "name": "stdout",
     "output_type": "stream",
     "text": [
      "\n",
      "      Epoch    GPU_mem   box_loss   cls_loss   dfl_loss  Instances       Size\n"
     ]
    },
    {
     "name": "stderr",
     "output_type": "stream",
     "text": [
      "      18/50      4.17G      1.051     0.5907     0.9962         88        512:  53%|█████▎    | 49/93 [00:05<00:05,  8.41it/s]libpng warning: iCCP: Not recognizing known sRGB profile that has been edited\n",
      "      18/50      4.17G      1.054     0.5926      1.002         89        512: 100%|██████████| 93/93 [00:11<00:00,  8.30it/s]\n",
      "                 Class     Images  Instances      Box(P          R      mAP50  mAP50-95):  18%|█▊        | 4/22 [00:00<00:01, 12.46it/s]libpng warning: iCCP: Not recognizing known sRGB profile that has been edited\n",
      "                 Class     Images  Instances      Box(P          R      mAP50  mAP50-95): 100%|██████████| 22/22 [00:02<00:00, 10.85it/s]"
     ]
    },
    {
     "name": "stdout",
     "output_type": "stream",
     "text": [
      "                   all        347       2809      0.888      0.827      0.887      0.578\n"
     ]
    },
    {
     "name": "stderr",
     "output_type": "stream",
     "text": [
      "\n"
     ]
    },
    {
     "name": "stdout",
     "output_type": "stream",
     "text": [
      "\n",
      "      Epoch    GPU_mem   box_loss   cls_loss   dfl_loss  Instances       Size\n"
     ]
    },
    {
     "name": "stderr",
     "output_type": "stream",
     "text": [
      "      19/50      4.08G       1.01     0.5908     0.9822        107        512:   5%|▌         | 5/93 [00:00<00:09,  8.82it/s]libpng warning: iCCP: Not recognizing known sRGB profile that has been edited\n",
      "      19/50      4.09G       1.03      0.583      1.013         96        512:  97%|█████████▋| 90/93 [00:10<00:00,  8.61it/s]libpng warning: iCCP: Not recognizing known sRGB profile that has been edited\n",
      "      19/50      4.09G      1.029     0.5839      1.014         28        512: 100%|██████████| 93/93 [00:11<00:00,  8.39it/s]\n",
      "                 Class     Images  Instances      Box(P          R      mAP50  mAP50-95):  23%|██▎       | 5/22 [00:00<00:01, 10.74it/s]libpng warning: iCCP: Not recognizing known sRGB profile that has been edited\n",
      "                 Class     Images  Instances      Box(P          R      mAP50  mAP50-95): 100%|██████████| 22/22 [00:02<00:00, 10.31it/s]"
     ]
    },
    {
     "name": "stdout",
     "output_type": "stream",
     "text": [
      "                   all        347       2809      0.874       0.81      0.869      0.574\n"
     ]
    },
    {
     "name": "stderr",
     "output_type": "stream",
     "text": [
      "\n"
     ]
    },
    {
     "name": "stdout",
     "output_type": "stream",
     "text": [
      "\n",
      "      Epoch    GPU_mem   box_loss   cls_loss   dfl_loss  Instances       Size\n"
     ]
    },
    {
     "name": "stderr",
     "output_type": "stream",
     "text": [
      "      20/50       4.2G      1.025     0.5938      0.993         86        512:  87%|████████▋ | 81/93 [00:09<00:01,  8.57it/s]libpng warning: iCCP: Not recognizing known sRGB profile that has been edited\n",
      "      20/50       4.2G      1.026     0.5913     0.9956         76        512: 100%|██████████| 93/93 [00:11<00:00,  8.30it/s]\n",
      "                 Class     Images  Instances      Box(P          R      mAP50  mAP50-95):  18%|█▊        | 4/22 [00:00<00:01, 10.47it/s]libpng warning: iCCP: Not recognizing known sRGB profile that has been edited\n",
      "                 Class     Images  Instances      Box(P          R      mAP50  mAP50-95): 100%|██████████| 22/22 [00:02<00:00, 10.44it/s]"
     ]
    },
    {
     "name": "stdout",
     "output_type": "stream",
     "text": [
      "                   all        347       2809      0.884      0.788      0.877      0.586\n"
     ]
    },
    {
     "name": "stderr",
     "output_type": "stream",
     "text": [
      "\n"
     ]
    },
    {
     "name": "stdout",
     "output_type": "stream",
     "text": [
      "\n",
      "      Epoch    GPU_mem   box_loss   cls_loss   dfl_loss  Instances       Size\n"
     ]
    },
    {
     "name": "stderr",
     "output_type": "stream",
     "text": [
      "      21/50      4.07G      1.014     0.5783          1         51        512: 100%|██████████| 93/93 [00:11<00:00,  8.31it/s]\n",
      "                 Class     Images  Instances      Box(P          R      mAP50  mAP50-95):  23%|██▎       | 5/22 [00:00<00:01, 10.63it/s]libpng warning: iCCP: Not recognizing known sRGB profile that has been edited\n",
      "                 Class     Images  Instances      Box(P          R      mAP50  mAP50-95): 100%|██████████| 22/22 [00:02<00:00, 10.69it/s]"
     ]
    },
    {
     "name": "stdout",
     "output_type": "stream",
     "text": [
      "                   all        347       2809       0.92      0.815      0.892       0.61\n"
     ]
    },
    {
     "name": "stderr",
     "output_type": "stream",
     "text": [
      "\n"
     ]
    },
    {
     "name": "stdout",
     "output_type": "stream",
     "text": [
      "\n",
      "      Epoch    GPU_mem   box_loss   cls_loss   dfl_loss  Instances       Size\n"
     ]
    },
    {
     "name": "stderr",
     "output_type": "stream",
     "text": [
      "      22/50      4.19G       1.01     0.5986      1.013         80        512:  28%|██▊       | 26/93 [00:03<00:08,  8.11it/s]libpng warning: iCCP: Not recognizing known sRGB profile that has been edited\n",
      "      22/50      4.19G      1.023     0.5681      0.999         42        512: 100%|██████████| 93/93 [00:11<00:00,  8.34it/s]\n",
      "                 Class     Images  Instances      Box(P          R      mAP50  mAP50-95):  18%|█▊        | 4/22 [00:00<00:01, 10.34it/s]libpng warning: iCCP: Not recognizing known sRGB profile that has been edited\n",
      "                 Class     Images  Instances      Box(P          R      mAP50  mAP50-95): 100%|██████████| 22/22 [00:02<00:00, 10.47it/s]"
     ]
    },
    {
     "name": "stdout",
     "output_type": "stream",
     "text": [
      "                   all        347       2809      0.919      0.777       0.88       0.59\n"
     ]
    },
    {
     "name": "stderr",
     "output_type": "stream",
     "text": [
      "\n"
     ]
    },
    {
     "name": "stdout",
     "output_type": "stream",
     "text": [
      "\n",
      "      Epoch    GPU_mem   box_loss   cls_loss   dfl_loss  Instances       Size\n"
     ]
    },
    {
     "name": "stderr",
     "output_type": "stream",
     "text": [
      "      23/50       4.2G      1.045     0.5859      1.115         28        512:   2%|▏         | 2/93 [00:00<00:11,  7.85it/s]libpng warning: iCCP: Not recognizing known sRGB profile that has been edited\n",
      "      23/50       4.2G      1.033     0.5693     0.9885         71        512:  88%|████████▊ | 82/93 [00:09<00:01,  8.57it/s]libpng warning: iCCP: Not recognizing known sRGB profile that has been edited\n",
      "      23/50       4.2G      1.031     0.5676     0.9881         43        512: 100%|██████████| 93/93 [00:11<00:00,  8.31it/s]\n",
      "                 Class     Images  Instances      Box(P          R      mAP50  mAP50-95):  18%|█▊        | 4/22 [00:00<00:01, 12.01it/s]libpng warning: iCCP: Not recognizing known sRGB profile that has been edited\n",
      "                 Class     Images  Instances      Box(P          R      mAP50  mAP50-95): 100%|██████████| 22/22 [00:02<00:00, 10.67it/s]"
     ]
    },
    {
     "name": "stdout",
     "output_type": "stream",
     "text": [
      "                   all        347       2809      0.909      0.838      0.902      0.609\n"
     ]
    },
    {
     "name": "stderr",
     "output_type": "stream",
     "text": [
      "\n"
     ]
    },
    {
     "name": "stdout",
     "output_type": "stream",
     "text": [
      "\n",
      "      Epoch    GPU_mem   box_loss   cls_loss   dfl_loss  Instances       Size\n"
     ]
    },
    {
     "name": "stderr",
     "output_type": "stream",
     "text": [
      "      24/50      4.19G     0.9912     0.5246     0.9776         43        512: 100%|██████████| 93/93 [00:11<00:00,  8.36it/s]\n",
      "                 Class     Images  Instances      Box(P          R      mAP50  mAP50-95):  27%|██▋       | 6/22 [00:00<00:01, 11.69it/s]libpng warning: iCCP: Not recognizing known sRGB profile that has been edited\n",
      "                 Class     Images  Instances      Box(P          R      mAP50  mAP50-95): 100%|██████████| 22/22 [00:02<00:00, 10.88it/s]"
     ]
    },
    {
     "name": "stdout",
     "output_type": "stream",
     "text": [
      "                   all        347       2809      0.905      0.833      0.895      0.597\n"
     ]
    },
    {
     "name": "stderr",
     "output_type": "stream",
     "text": [
      "\n"
     ]
    },
    {
     "name": "stdout",
     "output_type": "stream",
     "text": [
      "\n",
      "      Epoch    GPU_mem   box_loss   cls_loss   dfl_loss  Instances       Size\n"
     ]
    },
    {
     "name": "stderr",
     "output_type": "stream",
     "text": [
      "      25/50       4.2G      1.018     0.5691     0.9863         76        512:  22%|██▏       | 20/93 [00:02<00:08,  8.35it/s]libpng warning: iCCP: Not recognizing known sRGB profile that has been edited\n",
      "      25/50       4.2G      1.009      0.548     0.9866         39        512: 100%|██████████| 93/93 [00:11<00:00,  8.40it/s]\n",
      "                 Class     Images  Instances      Box(P          R      mAP50  mAP50-95):  23%|██▎       | 5/22 [00:00<00:01, 11.14it/s]libpng warning: iCCP: Not recognizing known sRGB profile that has been edited\n",
      "                 Class     Images  Instances      Box(P          R      mAP50  mAP50-95): 100%|██████████| 22/22 [00:02<00:00, 10.85it/s]"
     ]
    },
    {
     "name": "stdout",
     "output_type": "stream",
     "text": [
      "                   all        347       2809      0.923      0.827      0.903       0.61\n"
     ]
    },
    {
     "name": "stderr",
     "output_type": "stream",
     "text": [
      "\n"
     ]
    },
    {
     "name": "stdout",
     "output_type": "stream",
     "text": [
      "\n",
      "      Epoch    GPU_mem   box_loss   cls_loss   dfl_loss  Instances       Size\n"
     ]
    },
    {
     "name": "stderr",
     "output_type": "stream",
     "text": [
      "      26/50      4.19G     0.9941     0.5241     0.9736         45        512:  82%|████████▏ | 76/93 [00:09<00:02,  8.27it/s]libpng warning: iCCP: Not recognizing known sRGB profile that has been edited\n",
      "      26/50      4.19G     0.9865     0.5165     0.9754         68        512: 100%|██████████| 93/93 [00:11<00:00,  8.28it/s]\n",
      "                 Class     Images  Instances      Box(P          R      mAP50  mAP50-95):  23%|██▎       | 5/22 [00:00<00:01, 11.94it/s]libpng warning: iCCP: Not recognizing known sRGB profile that has been edited\n",
      "                 Class     Images  Instances      Box(P          R      mAP50  mAP50-95): 100%|██████████| 22/22 [00:02<00:00, 10.99it/s]"
     ]
    },
    {
     "name": "stdout",
     "output_type": "stream",
     "text": [
      "                   all        347       2809      0.927      0.872      0.921      0.635\n"
     ]
    },
    {
     "name": "stderr",
     "output_type": "stream",
     "text": [
      "\n"
     ]
    },
    {
     "name": "stdout",
     "output_type": "stream",
     "text": [
      "\n",
      "      Epoch    GPU_mem   box_loss   cls_loss   dfl_loss  Instances       Size\n"
     ]
    },
    {
     "name": "stderr",
     "output_type": "stream",
     "text": [
      "      27/50      4.21G     0.9691     0.5118     0.9852         61        512:  97%|█████████▋| 90/93 [00:10<00:00,  8.49it/s]libpng warning: iCCP: Not recognizing known sRGB profile that has been edited\n",
      "      27/50      4.21G     0.9714     0.5119     0.9847         91        512: 100%|██████████| 93/93 [00:11<00:00,  8.38it/s]\n",
      "                 Class     Images  Instances      Box(P          R      mAP50  mAP50-95):  23%|██▎       | 5/22 [00:00<00:01, 11.13it/s]libpng warning: iCCP: Not recognizing known sRGB profile that has been edited\n",
      "                 Class     Images  Instances      Box(P          R      mAP50  mAP50-95): 100%|██████████| 22/22 [00:02<00:00, 10.91it/s]"
     ]
    },
    {
     "name": "stdout",
     "output_type": "stream",
     "text": [
      "                   all        347       2809       0.88      0.856      0.909      0.619\n"
     ]
    },
    {
     "name": "stderr",
     "output_type": "stream",
     "text": [
      "\n"
     ]
    },
    {
     "name": "stdout",
     "output_type": "stream",
     "text": [
      "\n",
      "      Epoch    GPU_mem   box_loss   cls_loss   dfl_loss  Instances       Size\n"
     ]
    },
    {
     "name": "stderr",
     "output_type": "stream",
     "text": [
      "      28/50      4.19G     0.9783     0.5261     0.9777         64        512: 100%|██████████| 93/93 [00:11<00:00,  8.21it/s]\n",
      "                 Class     Images  Instances      Box(P          R      mAP50  mAP50-95):  18%|█▊        | 4/22 [00:00<00:01, 11.92it/s]libpng warning: iCCP: Not recognizing known sRGB profile that has been edited\n",
      "                 Class     Images  Instances      Box(P          R      mAP50  mAP50-95): 100%|██████████| 22/22 [00:01<00:00, 11.19it/s]"
     ]
    },
    {
     "name": "stdout",
     "output_type": "stream",
     "text": [
      "                   all        347       2809      0.921      0.805      0.903      0.611\n"
     ]
    },
    {
     "name": "stderr",
     "output_type": "stream",
     "text": [
      "\n"
     ]
    },
    {
     "name": "stdout",
     "output_type": "stream",
     "text": [
      "\n",
      "      Epoch    GPU_mem   box_loss   cls_loss   dfl_loss  Instances       Size\n"
     ]
    },
    {
     "name": "stderr",
     "output_type": "stream",
     "text": [
      "      29/50      4.19G     0.9089     0.4702     0.9018         72        512:   2%|▏         | 2/93 [00:00<00:11,  8.21it/s]libpng warning: iCCP: Not recognizing known sRGB profile that has been edited\n",
      "      29/50      4.19G     0.9787     0.5188     0.9803        103        512:  87%|████████▋ | 81/93 [00:09<00:01,  8.25it/s]libpng warning: iCCP: Not recognizing known sRGB profile that has been edited\n",
      "      29/50      4.19G      0.976     0.5195      0.982         53        512: 100%|██████████| 93/93 [00:11<00:00,  8.32it/s]\n",
      "                 Class     Images  Instances      Box(P          R      mAP50  mAP50-95):  18%|█▊        | 4/22 [00:00<00:01, 10.88it/s]libpng warning: iCCP: Not recognizing known sRGB profile that has been edited\n",
      "                 Class     Images  Instances      Box(P          R      mAP50  mAP50-95): 100%|██████████| 22/22 [00:01<00:00, 11.03it/s]"
     ]
    },
    {
     "name": "stdout",
     "output_type": "stream",
     "text": [
      "                   all        347       2809      0.916      0.838      0.916      0.643\n"
     ]
    },
    {
     "name": "stderr",
     "output_type": "stream",
     "text": [
      "\n"
     ]
    },
    {
     "name": "stdout",
     "output_type": "stream",
     "text": [
      "\n",
      "      Epoch    GPU_mem   box_loss   cls_loss   dfl_loss  Instances       Size\n"
     ]
    },
    {
     "name": "stderr",
     "output_type": "stream",
     "text": [
      "      30/50      4.18G     0.9698     0.5134     0.9688         44        512: 100%|██████████| 93/93 [00:11<00:00,  8.27it/s]\n",
      "                 Class     Images  Instances      Box(P          R      mAP50  mAP50-95):  18%|█▊        | 4/22 [00:00<00:01, 10.55it/s]libpng warning: iCCP: Not recognizing known sRGB profile that has been edited\n",
      "                 Class     Images  Instances      Box(P          R      mAP50  mAP50-95): 100%|██████████| 22/22 [00:02<00:00, 10.15it/s]"
     ]
    },
    {
     "name": "stdout",
     "output_type": "stream",
     "text": [
      "                   all        347       2809       0.94      0.842      0.926       0.63\n"
     ]
    },
    {
     "name": "stderr",
     "output_type": "stream",
     "text": [
      "\n"
     ]
    },
    {
     "name": "stdout",
     "output_type": "stream",
     "text": [
      "\n",
      "      Epoch    GPU_mem   box_loss   cls_loss   dfl_loss  Instances       Size\n"
     ]
    },
    {
     "name": "stderr",
     "output_type": "stream",
     "text": [
      "      31/50       4.2G          1      0.523     0.9893         99        512:  17%|█▋        | 16/93 [00:01<00:09,  8.45it/s]libpng warning: iCCP: Not recognizing known sRGB profile that has been edited\n",
      "      31/50      4.21G     0.9716      0.505     0.9798         92        512: 100%|██████████| 93/93 [00:11<00:00,  8.39it/s]\n",
      "                 Class     Images  Instances      Box(P          R      mAP50  mAP50-95):  18%|█▊        | 4/22 [00:00<00:01, 12.54it/s]libpng warning: iCCP: Not recognizing known sRGB profile that has been edited\n",
      "                 Class     Images  Instances      Box(P          R      mAP50  mAP50-95): 100%|██████████| 22/22 [00:02<00:00, 10.87it/s]"
     ]
    },
    {
     "name": "stdout",
     "output_type": "stream",
     "text": [
      "                   all        347       2809      0.943      0.836      0.912      0.632\n"
     ]
    },
    {
     "name": "stderr",
     "output_type": "stream",
     "text": [
      "\n"
     ]
    },
    {
     "name": "stdout",
     "output_type": "stream",
     "text": [
      "\n",
      "      Epoch    GPU_mem   box_loss   cls_loss   dfl_loss  Instances       Size\n"
     ]
    },
    {
     "name": "stderr",
     "output_type": "stream",
     "text": [
      "      32/50      4.19G     0.9502     0.5075     0.9767         37        512:  28%|██▊       | 26/93 [00:03<00:07,  8.59it/s]libpng warning: iCCP: Not recognizing known sRGB profile that has been edited\n",
      "      32/50      4.19G     0.9337     0.4918     0.9631         37        512: 100%|██████████| 93/93 [00:10<00:00,  8.48it/s]\n",
      "                 Class     Images  Instances      Box(P          R      mAP50  mAP50-95):  18%|█▊        | 4/22 [00:00<00:01, 11.80it/s]libpng warning: iCCP: Not recognizing known sRGB profile that has been edited\n",
      "                 Class     Images  Instances      Box(P          R      mAP50  mAP50-95): 100%|██████████| 22/22 [00:02<00:00, 10.98it/s]"
     ]
    },
    {
     "name": "stdout",
     "output_type": "stream",
     "text": [
      "                   all        347       2809      0.933      0.863      0.934      0.655\n"
     ]
    },
    {
     "name": "stderr",
     "output_type": "stream",
     "text": [
      "\n"
     ]
    },
    {
     "name": "stdout",
     "output_type": "stream",
     "text": [
      "\n",
      "      Epoch    GPU_mem   box_loss   cls_loss   dfl_loss  Instances       Size\n"
     ]
    },
    {
     "name": "stderr",
     "output_type": "stream",
     "text": [
      "  0%|          | 0/93 [00:00<?, ?it/s]libpng warning: iCCP: Not recognizing known sRGB profile that has been edited\n",
      "      33/50      4.21G      0.938     0.4918     0.9619         59        512: 100%|██████████| 93/93 [00:11<00:00,  8.30it/s]\n",
      "                 Class     Images  Instances      Box(P          R      mAP50  mAP50-95):  18%|█▊        | 4/22 [00:00<00:01, 12.13it/s]libpng warning: iCCP: Not recognizing known sRGB profile that has been edited\n",
      "                 Class     Images  Instances      Box(P          R      mAP50  mAP50-95): 100%|██████████| 22/22 [00:01<00:00, 11.14it/s]"
     ]
    },
    {
     "name": "stdout",
     "output_type": "stream",
     "text": [
      "                   all        347       2809      0.958      0.848      0.931      0.658\n"
     ]
    },
    {
     "name": "stderr",
     "output_type": "stream",
     "text": [
      "\n"
     ]
    },
    {
     "name": "stdout",
     "output_type": "stream",
     "text": [
      "\n",
      "      Epoch    GPU_mem   box_loss   cls_loss   dfl_loss  Instances       Size\n"
     ]
    },
    {
     "name": "stderr",
     "output_type": "stream",
     "text": [
      "      34/50       4.2G     0.9219     0.4813     0.9564         64        512:  35%|███▌      | 33/93 [00:03<00:07,  8.50it/s]libpng warning: iCCP: Not recognizing known sRGB profile that has been edited\n",
      "      34/50       4.2G     0.9235     0.4729      0.951         32        512: 100%|██████████| 93/93 [00:11<00:00,  8.36it/s]\n",
      "                 Class     Images  Instances      Box(P          R      mAP50  mAP50-95):  23%|██▎       | 5/22 [00:00<00:01, 10.97it/s]libpng warning: iCCP: Not recognizing known sRGB profile that has been edited\n",
      "                 Class     Images  Instances      Box(P          R      mAP50  mAP50-95): 100%|██████████| 22/22 [00:02<00:00, 10.73it/s]"
     ]
    },
    {
     "name": "stdout",
     "output_type": "stream",
     "text": [
      "                   all        347       2809      0.947      0.862      0.928      0.661\n"
     ]
    },
    {
     "name": "stderr",
     "output_type": "stream",
     "text": [
      "\n"
     ]
    },
    {
     "name": "stdout",
     "output_type": "stream",
     "text": [
      "\n",
      "      Epoch    GPU_mem   box_loss   cls_loss   dfl_loss  Instances       Size\n"
     ]
    },
    {
     "name": "stderr",
     "output_type": "stream",
     "text": [
      "      35/50      4.21G     0.9019     0.4671     0.9544         75        512:  63%|██████▎   | 59/93 [00:07<00:04,  8.23it/s]libpng warning: iCCP: Not recognizing known sRGB profile that has been edited\n",
      "      35/50      4.21G     0.9161     0.4688     0.9488         58        512: 100%|██████████| 93/93 [00:11<00:00,  8.15it/s]\n",
      "                 Class     Images  Instances      Box(P          R      mAP50  mAP50-95):  18%|█▊        | 4/22 [00:00<00:01, 11.77it/s]libpng warning: iCCP: Not recognizing known sRGB profile that has been edited\n",
      "                 Class     Images  Instances      Box(P          R      mAP50  mAP50-95): 100%|██████████| 22/22 [00:02<00:00, 10.56it/s]"
     ]
    },
    {
     "name": "stdout",
     "output_type": "stream",
     "text": [
      "                   all        347       2809       0.93      0.875      0.938      0.664\n"
     ]
    },
    {
     "name": "stderr",
     "output_type": "stream",
     "text": [
      "\n"
     ]
    },
    {
     "name": "stdout",
     "output_type": "stream",
     "text": [
      "\n",
      "      Epoch    GPU_mem   box_loss   cls_loss   dfl_loss  Instances       Size\n"
     ]
    },
    {
     "name": "stderr",
     "output_type": "stream",
     "text": [
      "      36/50      4.21G     0.9209     0.4728     0.9567         56        512:  96%|█████████▌| 89/93 [00:10<00:00,  8.86it/s]libpng warning: iCCP: Not recognizing known sRGB profile that has been edited\n",
      "      36/50      4.21G     0.9205     0.4725     0.9575         55        512: 100%|██████████| 93/93 [00:11<00:00,  8.25it/s]\n",
      "                 Class     Images  Instances      Box(P          R      mAP50  mAP50-95):  18%|█▊        | 4/22 [00:00<00:01, 11.97it/s]libpng warning: iCCP: Not recognizing known sRGB profile that has been edited\n",
      "                 Class     Images  Instances      Box(P          R      mAP50  mAP50-95): 100%|██████████| 22/22 [00:02<00:00, 10.87it/s]"
     ]
    },
    {
     "name": "stdout",
     "output_type": "stream",
     "text": [
      "                   all        347       2809       0.96      0.857      0.939       0.67\n"
     ]
    },
    {
     "name": "stderr",
     "output_type": "stream",
     "text": [
      "\n"
     ]
    },
    {
     "name": "stdout",
     "output_type": "stream",
     "text": [
      "\n",
      "      Epoch    GPU_mem   box_loss   cls_loss   dfl_loss  Instances       Size\n"
     ]
    },
    {
     "name": "stderr",
     "output_type": "stream",
     "text": [
      "      37/50      4.21G     0.9082     0.4543     0.9442         50        512: 100%|██████████| 93/93 [00:11<00:00,  8.44it/s]\n",
      "                 Class     Images  Instances      Box(P          R      mAP50  mAP50-95):  18%|█▊        | 4/22 [00:00<00:01, 12.61it/s]libpng warning: iCCP: Not recognizing known sRGB profile that has been edited\n",
      "                 Class     Images  Instances      Box(P          R      mAP50  mAP50-95): 100%|██████████| 22/22 [00:01<00:00, 11.32it/s]"
     ]
    },
    {
     "name": "stdout",
     "output_type": "stream",
     "text": [
      "                   all        347       2809      0.942      0.885      0.951      0.673\n"
     ]
    },
    {
     "name": "stderr",
     "output_type": "stream",
     "text": [
      "\n"
     ]
    },
    {
     "name": "stdout",
     "output_type": "stream",
     "text": [
      "\n",
      "      Epoch    GPU_mem   box_loss   cls_loss   dfl_loss  Instances       Size\n"
     ]
    },
    {
     "name": "stderr",
     "output_type": "stream",
     "text": [
      "      38/50      4.19G     0.9025     0.4519      0.936         60        512:  76%|███████▋  | 71/93 [00:08<00:02,  8.75it/s]libpng warning: iCCP: Not recognizing known sRGB profile that has been edited\n",
      "      38/50      4.19G     0.9077     0.4552     0.9357        112        512: 100%|██████████| 93/93 [00:10<00:00,  8.50it/s]\n",
      "                 Class     Images  Instances      Box(P          R      mAP50  mAP50-95):  27%|██▋       | 6/22 [00:00<00:01, 11.61it/s]libpng warning: iCCP: Not recognizing known sRGB profile that has been edited\n",
      "                 Class     Images  Instances      Box(P          R      mAP50  mAP50-95): 100%|██████████| 22/22 [00:02<00:00, 10.86it/s]"
     ]
    },
    {
     "name": "stdout",
     "output_type": "stream",
     "text": [
      "                   all        347       2809       0.96      0.895      0.951      0.683\n"
     ]
    },
    {
     "name": "stderr",
     "output_type": "stream",
     "text": [
      "\n"
     ]
    },
    {
     "name": "stdout",
     "output_type": "stream",
     "text": [
      "\n",
      "      Epoch    GPU_mem   box_loss   cls_loss   dfl_loss  Instances       Size\n"
     ]
    },
    {
     "name": "stderr",
     "output_type": "stream",
     "text": [
      "      39/50      4.18G     0.8219      0.444     0.9178         89        512:   6%|▋         | 6/93 [00:00<00:10,  8.59it/s]libpng warning: iCCP: Not recognizing known sRGB profile that has been edited\n",
      "      39/50      4.18G     0.8742     0.4393     0.9411         42        512: 100%|██████████| 93/93 [00:10<00:00,  8.53it/s]\n",
      "                 Class     Images  Instances      Box(P          R      mAP50  mAP50-95):  18%|█▊        | 4/22 [00:00<00:01, 12.10it/s]libpng warning: iCCP: Not recognizing known sRGB profile that has been edited\n",
      "                 Class     Images  Instances      Box(P          R      mAP50  mAP50-95): 100%|██████████| 22/22 [00:01<00:00, 11.25it/s]"
     ]
    },
    {
     "name": "stdout",
     "output_type": "stream",
     "text": [
      "                   all        347       2809      0.932      0.906      0.949      0.688\n"
     ]
    },
    {
     "name": "stderr",
     "output_type": "stream",
     "text": [
      "\n"
     ]
    },
    {
     "name": "stdout",
     "output_type": "stream",
     "text": [
      "\n",
      "      Epoch    GPU_mem   box_loss   cls_loss   dfl_loss  Instances       Size\n"
     ]
    },
    {
     "name": "stderr",
     "output_type": "stream",
     "text": [
      "      40/50       4.2G     0.9177     0.4536      0.923         71        512:  11%|█         | 10/93 [00:01<00:10,  8.12it/s]libpng warning: iCCP: Not recognizing known sRGB profile that has been edited\n",
      "      40/50       4.2G     0.8708     0.4409     0.9308         70        512:  88%|████████▊ | 82/93 [00:09<00:01,  8.51it/s]libpng warning: iCCP: Not recognizing known sRGB profile that has been edited\n",
      "      40/50       4.2G     0.8711     0.4441     0.9301         88        512: 100%|██████████| 93/93 [00:11<00:00,  8.40it/s]\n",
      "                 Class     Images  Instances      Box(P          R      mAP50  mAP50-95):  18%|█▊        | 4/22 [00:00<00:01, 10.95it/s]libpng warning: iCCP: Not recognizing known sRGB profile that has been edited\n",
      "                 Class     Images  Instances      Box(P          R      mAP50  mAP50-95): 100%|██████████| 22/22 [00:02<00:00, 10.98it/s]"
     ]
    },
    {
     "name": "stdout",
     "output_type": "stream",
     "text": [
      "                   all        347       2809      0.971      0.886      0.951      0.687\n"
     ]
    },
    {
     "name": "stderr",
     "output_type": "stream",
     "text": [
      "\n"
     ]
    },
    {
     "name": "stdout",
     "output_type": "stream",
     "text": [
      "Closing dataloader mosaic\n",
      "\u001b[34m\u001b[1malbumentations: \u001b[0mBlur(p=0.01, blur_limit=(3, 7)), MedianBlur(p=0.01, blur_limit=(3, 7)), ToGray(p=0.01), CLAHE(p=0.01, clip_limit=(1, 4.0), tile_grid_size=(8, 8))\n",
      "\n",
      "      Epoch    GPU_mem   box_loss   cls_loss   dfl_loss  Instances       Size\n"
     ]
    },
    {
     "name": "stderr",
     "output_type": "stream",
     "text": [
      "      41/50       4.2G      0.869     0.4147     0.9441         29        512:  43%|████▎     | 40/93 [00:05<00:06,  8.52it/s]libpng warning: iCCP: Not recognizing known sRGB profile that has been edited\n",
      "      41/50       4.2G     0.8714     0.4131     0.9414         39        512: 100%|██████████| 93/93 [00:11<00:00,  8.09it/s]\n",
      "                 Class     Images  Instances      Box(P          R      mAP50  mAP50-95):  23%|██▎       | 5/22 [00:00<00:01, 10.84it/s]libpng warning: iCCP: Not recognizing known sRGB profile that has been edited\n",
      "                 Class     Images  Instances      Box(P          R      mAP50  mAP50-95): 100%|██████████| 22/22 [00:02<00:00, 10.76it/s]"
     ]
    },
    {
     "name": "stdout",
     "output_type": "stream",
     "text": [
      "                   all        347       2809      0.945      0.867      0.943      0.686\n"
     ]
    },
    {
     "name": "stderr",
     "output_type": "stream",
     "text": [
      "\n"
     ]
    },
    {
     "name": "stdout",
     "output_type": "stream",
     "text": [
      "\n",
      "      Epoch    GPU_mem   box_loss   cls_loss   dfl_loss  Instances       Size\n"
     ]
    },
    {
     "name": "stderr",
     "output_type": "stream",
     "text": [
      "      42/50      4.21G     0.8521     0.4043     0.9364         42        512:  57%|█████▋    | 53/93 [00:06<00:04,  8.55it/s]libpng warning: iCCP: Not recognizing known sRGB profile that has been edited\n",
      "      42/50      4.21G      0.857     0.4048     0.9365         19        512: 100%|██████████| 93/93 [00:11<00:00,  8.39it/s]\n",
      "                 Class     Images  Instances      Box(P          R      mAP50  mAP50-95):  18%|█▊        | 4/22 [00:00<00:01, 11.78it/s]libpng warning: iCCP: Not recognizing known sRGB profile that has been edited\n",
      "                 Class     Images  Instances      Box(P          R      mAP50  mAP50-95): 100%|██████████| 22/22 [00:02<00:00, 10.33it/s]"
     ]
    },
    {
     "name": "stdout",
     "output_type": "stream",
     "text": [
      "                   all        347       2809      0.967      0.878      0.951      0.695\n"
     ]
    },
    {
     "name": "stderr",
     "output_type": "stream",
     "text": [
      "\n"
     ]
    },
    {
     "name": "stdout",
     "output_type": "stream",
     "text": [
      "\n",
      "      Epoch    GPU_mem   box_loss   cls_loss   dfl_loss  Instances       Size\n"
     ]
    },
    {
     "name": "stderr",
     "output_type": "stream",
     "text": [
      "      43/50      4.19G     0.7976     0.3835     0.9445         37        512:   1%|          | 1/93 [00:00<00:13,  6.79it/s]libpng warning: iCCP: Not recognizing known sRGB profile that has been edited\n",
      "      43/50      4.21G     0.8432     0.3953     0.9354          9        512: 100%|██████████| 93/93 [00:11<00:00,  8.38it/s]\n",
      "                 Class     Images  Instances      Box(P          R      mAP50  mAP50-95):  18%|█▊        | 4/22 [00:00<00:01, 10.76it/s]libpng warning: iCCP: Not recognizing known sRGB profile that has been edited\n",
      "                 Class     Images  Instances      Box(P          R      mAP50  mAP50-95): 100%|██████████| 22/22 [00:02<00:00, 10.35it/s]"
     ]
    },
    {
     "name": "stdout",
     "output_type": "stream",
     "text": [
      "                   all        347       2809      0.958      0.893      0.955      0.687\n"
     ]
    },
    {
     "name": "stderr",
     "output_type": "stream",
     "text": [
      "\n"
     ]
    },
    {
     "name": "stdout",
     "output_type": "stream",
     "text": [
      "\n",
      "      Epoch    GPU_mem   box_loss   cls_loss   dfl_loss  Instances       Size\n"
     ]
    },
    {
     "name": "stderr",
     "output_type": "stream",
     "text": [
      "      44/50       4.1G     0.8393      0.388     0.9188         26        512:  67%|██████▋   | 62/93 [00:07<00:03,  8.47it/s]libpng warning: iCCP: Not recognizing known sRGB profile that has been edited\n",
      "      44/50       4.1G     0.8339     0.3896     0.9162         29        512: 100%|██████████| 93/93 [00:11<00:00,  8.20it/s]\n",
      "                 Class     Images  Instances      Box(P          R      mAP50  mAP50-95):  23%|██▎       | 5/22 [00:00<00:01,  9.68it/s]libpng warning: iCCP: Not recognizing known sRGB profile that has been edited\n",
      "                 Class     Images  Instances      Box(P          R      mAP50  mAP50-95): 100%|██████████| 22/22 [00:02<00:00, 10.16it/s]"
     ]
    },
    {
     "name": "stdout",
     "output_type": "stream",
     "text": [
      "                   all        347       2809      0.964      0.891      0.956        0.7\n"
     ]
    },
    {
     "name": "stderr",
     "output_type": "stream",
     "text": [
      "\n"
     ]
    },
    {
     "name": "stdout",
     "output_type": "stream",
     "text": [
      "\n",
      "      Epoch    GPU_mem   box_loss   cls_loss   dfl_loss  Instances       Size\n"
     ]
    },
    {
     "name": "stderr",
     "output_type": "stream",
     "text": [
      "      45/50      4.21G     0.8315     0.3885     0.9303         34        512:  65%|██████▍   | 60/93 [00:07<00:03,  8.73it/s]libpng warning: iCCP: Not recognizing known sRGB profile that has been edited\n",
      "      45/50      4.21G     0.8317      0.384     0.9284         32        512: 100%|██████████| 93/93 [00:11<00:00,  8.32it/s]\n",
      "                 Class     Images  Instances      Box(P          R      mAP50  mAP50-95):  18%|█▊        | 4/22 [00:00<00:01, 10.82it/s]libpng warning: iCCP: Not recognizing known sRGB profile that has been edited\n",
      "                 Class     Images  Instances      Box(P          R      mAP50  mAP50-95): 100%|██████████| 22/22 [00:02<00:00, 10.69it/s]"
     ]
    },
    {
     "name": "stdout",
     "output_type": "stream",
     "text": [
      "                   all        347       2809       0.92      0.917      0.952      0.705\n"
     ]
    },
    {
     "name": "stderr",
     "output_type": "stream",
     "text": [
      "\n"
     ]
    },
    {
     "name": "stdout",
     "output_type": "stream",
     "text": [
      "\n",
      "      Epoch    GPU_mem   box_loss   cls_loss   dfl_loss  Instances       Size\n"
     ]
    },
    {
     "name": "stderr",
     "output_type": "stream",
     "text": [
      "      46/50      4.19G     0.7881     0.3772     0.9123         17        512:  67%|██████▋   | 62/93 [00:07<00:03,  8.63it/s]libpng warning: iCCP: Not recognizing known sRGB profile that has been edited\n",
      "      46/50      4.19G     0.8168     0.3824     0.9174         40        512: 100%|██████████| 93/93 [00:11<00:00,  8.14it/s]\n",
      "                 Class     Images  Instances      Box(P          R      mAP50  mAP50-95):  18%|█▊        | 4/22 [00:00<00:01, 10.82it/s]libpng warning: iCCP: Not recognizing known sRGB profile that has been edited\n",
      "                 Class     Images  Instances      Box(P          R      mAP50  mAP50-95): 100%|██████████| 22/22 [00:02<00:00, 10.34it/s]"
     ]
    },
    {
     "name": "stdout",
     "output_type": "stream",
     "text": [
      "                   all        347       2809      0.936      0.917      0.957      0.708\n"
     ]
    },
    {
     "name": "stderr",
     "output_type": "stream",
     "text": [
      "\n"
     ]
    },
    {
     "name": "stdout",
     "output_type": "stream",
     "text": [
      "\n",
      "      Epoch    GPU_mem   box_loss   cls_loss   dfl_loss  Instances       Size\n"
     ]
    },
    {
     "name": "stderr",
     "output_type": "stream",
     "text": [
      "      47/50       4.2G     0.8201     0.3657     0.9125         28        512:  71%|███████   | 66/93 [00:07<00:03,  8.59it/s]libpng warning: iCCP: Not recognizing known sRGB profile that has been edited\n",
      "      47/50       4.2G     0.8155     0.3679     0.9122         27        512: 100%|██████████| 93/93 [00:11<00:00,  8.34it/s]\n",
      "                 Class     Images  Instances      Box(P          R      mAP50  mAP50-95):  18%|█▊        | 4/22 [00:00<00:01, 10.68it/s]libpng warning: iCCP: Not recognizing known sRGB profile that has been edited\n",
      "                 Class     Images  Instances      Box(P          R      mAP50  mAP50-95): 100%|██████████| 22/22 [00:02<00:00, 10.36it/s]"
     ]
    },
    {
     "name": "stdout",
     "output_type": "stream",
     "text": [
      "                   all        347       2809      0.962      0.909      0.958      0.715\n"
     ]
    },
    {
     "name": "stderr",
     "output_type": "stream",
     "text": [
      "\n"
     ]
    },
    {
     "name": "stdout",
     "output_type": "stream",
     "text": [
      "\n",
      "      Epoch    GPU_mem   box_loss   cls_loss   dfl_loss  Instances       Size\n"
     ]
    },
    {
     "name": "stderr",
     "output_type": "stream",
     "text": [
      "      48/50      4.09G     0.8423     0.3808      0.909         27        512:  26%|██▌       | 24/93 [00:02<00:08,  8.54it/s]libpng warning: iCCP: Not recognizing known sRGB profile that has been edited\n",
      "      48/50       4.1G     0.8185     0.3704     0.9166         22        512: 100%|██████████| 93/93 [00:10<00:00,  8.46it/s]\n",
      "                 Class     Images  Instances      Box(P          R      mAP50  mAP50-95):  18%|█▊        | 4/22 [00:00<00:01, 11.11it/s]libpng warning: iCCP: Not recognizing known sRGB profile that has been edited\n",
      "                 Class     Images  Instances      Box(P          R      mAP50  mAP50-95): 100%|██████████| 22/22 [00:02<00:00, 10.65it/s]"
     ]
    },
    {
     "name": "stdout",
     "output_type": "stream",
     "text": [
      "                   all        347       2809      0.973      0.921      0.962      0.724\n"
     ]
    },
    {
     "name": "stderr",
     "output_type": "stream",
     "text": [
      "\n"
     ]
    },
    {
     "name": "stdout",
     "output_type": "stream",
     "text": [
      "\n",
      "      Epoch    GPU_mem   box_loss   cls_loss   dfl_loss  Instances       Size\n"
     ]
    },
    {
     "name": "stderr",
     "output_type": "stream",
     "text": [
      "      49/50      4.09G     0.7349     0.3377     0.8895         25        512:  13%|█▎        | 12/93 [00:01<00:09,  8.42it/s]libpng warning: iCCP: Not recognizing known sRGB profile that has been edited\n",
      "      49/50      4.09G     0.7917     0.3605      0.909         18        512: 100%|██████████| 93/93 [00:11<00:00,  8.05it/s]\n",
      "                 Class     Images  Instances      Box(P          R      mAP50  mAP50-95):  18%|█▊        | 4/22 [00:00<00:01, 12.05it/s]libpng warning: iCCP: Not recognizing known sRGB profile that has been edited\n",
      "                 Class     Images  Instances      Box(P          R      mAP50  mAP50-95): 100%|██████████| 22/22 [00:02<00:00, 10.58it/s]"
     ]
    },
    {
     "name": "stdout",
     "output_type": "stream",
     "text": [
      "                   all        347       2809      0.978      0.915      0.961      0.725\n"
     ]
    },
    {
     "name": "stderr",
     "output_type": "stream",
     "text": [
      "\n"
     ]
    },
    {
     "name": "stdout",
     "output_type": "stream",
     "text": [
      "\n",
      "      Epoch    GPU_mem   box_loss   cls_loss   dfl_loss  Instances       Size\n"
     ]
    },
    {
     "name": "stderr",
     "output_type": "stream",
     "text": [
      "      50/50      4.08G     0.7969     0.3683     0.9068         21        512:  67%|██████▋   | 62/93 [00:07<00:03,  7.89it/s]libpng warning: iCCP: Not recognizing known sRGB profile that has been edited\n",
      "      50/50      4.08G     0.7849     0.3598     0.9057         28        512: 100%|██████████| 93/93 [00:11<00:00,  8.21it/s]\n",
      "                 Class     Images  Instances      Box(P          R      mAP50  mAP50-95):  18%|█▊        | 4/22 [00:00<00:01, 10.41it/s]libpng warning: iCCP: Not recognizing known sRGB profile that has been edited\n",
      "                 Class     Images  Instances      Box(P          R      mAP50  mAP50-95): 100%|██████████| 22/22 [00:02<00:00, 10.09it/s]"
     ]
    },
    {
     "name": "stdout",
     "output_type": "stream",
     "text": [
      "                   all        347       2809      0.963      0.926      0.962      0.728\n"
     ]
    },
    {
     "name": "stderr",
     "output_type": "stream",
     "text": [
      "\n"
     ]
    },
    {
     "name": "stdout",
     "output_type": "stream",
     "text": [
      "\n",
      "50 epochs completed in 0.200 hours.\n",
      "Optimizer stripped from runs/detect/train/weights/last.pt, 87.6MB\n",
      "Optimizer stripped from runs/detect/train/weights/best.pt, 87.6MB\n",
      "\n",
      "Validating runs/detect/train/weights/best.pt...\n",
      "Ultralytics YOLOv8.1.10 🚀 Python-3.11.5 torch-2.1.2+cu121 CUDA:0 (NVIDIA GeForce RTX 3080 Ti, 12288MiB)\n",
      "Model summary (fused): 268 layers, 43608921 parameters, 0 gradients, 164.8 GFLOPs\n"
     ]
    },
    {
     "name": "stderr",
     "output_type": "stream",
     "text": [
      "                 Class     Images  Instances      Box(P          R      mAP50  mAP50-95):  23%|██▎       | 5/22 [00:01<00:03,  4.60it/s]libpng warning: iCCP: Not recognizing known sRGB profile that has been edited\n",
      "                 Class     Images  Instances      Box(P          R      mAP50  mAP50-95): 100%|██████████| 22/22 [00:03<00:00,  7.12it/s]\n"
     ]
    },
    {
     "name": "stdout",
     "output_type": "stream",
     "text": [
      "                   all        347       2809      0.963      0.926      0.962      0.728\n",
      "             with_mask        347       2228       0.97      0.952      0.979      0.749\n",
      "          without_mask        347        506      0.934      0.902      0.956      0.692\n",
      " mask_weared_incorrect        347         75      0.986      0.925      0.952      0.743\n",
      "Speed: 0.1ms preprocess, 3.9ms inference, 0.0ms loss, 1.2ms postprocess per image\n",
      "Results saved to \u001b[1mruns/detect/train\u001b[0m\n"
     ]
    }
   ],
   "source": [
    "yolo = YOLO('yolov8l.pt')\n",
    "results = yolo.train(\n",
    "    model='yolov8l.pt',\n",
    "    data='masks.yaml',\n",
    "    epochs=50,\n",
    "    imgsz=512, \n",
    "    batch=8,\n",
    "    pretrained=True,\n",
    "    visualize=True\n",
    ")"
   ]
  },
  {
   "cell_type": "markdown",
   "metadata": {},
   "source": [
    "Отобразим, как менялись целевые метрики и функции потерь в зависимости от эпохи\n",
    "\n",
    "<img src=\"imgs/results.png\" width=\"1280\"/>"
   ]
  },
  {
   "cell_type": "markdown",
   "metadata": {},
   "source": [
    "Загрузим лучшую модель (не последнюю) на основе показателей метрик/функции потерь **валидационной выборки**"
   ]
  },
  {
   "cell_type": "code",
   "execution_count": 2,
   "metadata": {},
   "outputs": [],
   "source": [
    "best_model_path = './runs/detect/train/weights/best.pt'\n",
    "best_yolo = YOLO(best_model_path)"
   ]
  },
  {
   "cell_type": "markdown",
   "metadata": {},
   "source": [
    "## <center>Оценка качества\n",
    "Сделаем валидацию на **тестовой выборке** и отобразим графики"
   ]
  },
  {
   "cell_type": "code",
   "execution_count": 3,
   "metadata": {},
   "outputs": [
    {
     "name": "stdout",
     "output_type": "stream",
     "text": [
      "Ultralytics YOLOv8.1.10 🚀 Python-3.11.5 torch-2.1.2+cu121 CUDA:0 (NVIDIA GeForce RTX 3080 Ti, 12288MiB)\n",
      "Model summary (fused): 268 layers, 43608921 parameters, 0 gradients, 164.8 GFLOPs\n"
     ]
    },
    {
     "name": "stderr",
     "output_type": "stream",
     "text": [
      "\u001b[34m\u001b[1mval: \u001b[0mScanning /home/deep_learning/Detection of medical masks/datasets/yolo_data/labels/test.cache... 350 images, 0 backgrounds, 0 corrupt: 100%|██████████| 350/350 [00:00<?, ?it/s]\n",
      "                 Class     Images  Instances      Box(P          R      mAP50  mAP50-95):   5%|▍         | 1/22 [00:01<00:31,  1.49s/it]libpng warning: iCCP: Not recognizing known sRGB profile that has been edited\n",
      "                 Class     Images  Instances      Box(P          R      mAP50  mAP50-95):  95%|█████████▌| 21/22 [00:04<00:00,  6.79it/s]libpng warning: iCCP: Not recognizing known sRGB profile that has been edited\n",
      "                 Class     Images  Instances      Box(P          R      mAP50  mAP50-95): 100%|██████████| 22/22 [00:05<00:00,  4.38it/s]\n"
     ]
    },
    {
     "name": "stdout",
     "output_type": "stream",
     "text": [
      "                   all        350       2904       0.96       0.91      0.959      0.726\n",
      "             with_mask        350       2313      0.972       0.95       0.98       0.75\n",
      "          without_mask        350        520      0.924      0.904      0.954      0.698\n",
      " mask_weared_incorrect        350         71      0.984      0.875      0.945      0.731\n",
      "Speed: 0.1ms preprocess, 5.3ms inference, 0.0ms loss, 1.7ms postprocess per image\n",
      "Results saved to \u001b[1mruns/detect/val3\u001b[0m\n"
     ]
    }
   ],
   "source": [
    "test_metrics = best_yolo.val(split='test')"
   ]
  },
  {
   "cell_type": "markdown",
   "metadata": {},
   "source": [
    "<img src=\"imgs/confusion_matrix_normalized.png\" width=\"1280\"/>\n",
    "\n",
    "По матрице ошибок видно, что модель почти не путается между классами (малое количество *FP* и *FN*), однако наблюдается та же особенность, что и у модели *RetinaNet* - `background` определяется как `with_mask`\n",
    "\n",
    "<img src=\"imgs/F1_curve.png\" width=\"1280\"/>\n",
    "\n",
    "Наибольшее значение $F_1$-score ($0.94$) находится около уровня уверенности $\\approx 0.41$\n",
    "\n",
    "<img src=\"imgs/PR_curve.png\" width=\"1280\"/>\n",
    "\n",
    "$\\text{mAP@50} \\approx 0.96$ "
   ]
  },
  {
   "cell_type": "markdown",
   "metadata": {},
   "source": [
    "Отобразим несколько тестовых примеров\n",
    "\n",
    "<img src='imgs/val_batch0_pred.jpg'></img>"
   ]
  }
 ],
 "metadata": {
  "kernelspec": {
   "display_name": "base",
   "language": "python",
   "name": "python3"
  },
  "language_info": {
   "codemirror_mode": {
    "name": "ipython",
    "version": 3
   },
   "file_extension": ".py",
   "mimetype": "text/x-python",
   "name": "python",
   "nbconvert_exporter": "python",
   "pygments_lexer": "ipython3",
   "version": "3.11.5"
  }
 },
 "nbformat": 4,
 "nbformat_minor": 2
}
